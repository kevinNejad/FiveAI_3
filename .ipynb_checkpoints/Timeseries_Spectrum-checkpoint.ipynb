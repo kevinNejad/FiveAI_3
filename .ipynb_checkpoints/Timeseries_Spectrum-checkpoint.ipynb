{
 "cells": [
  {
   "cell_type": "code",
   "execution_count": 1,
   "metadata": {},
   "outputs": [],
   "source": [
    "import numpy as np\n",
    "import matplotlib.pyplot as plt\n",
    "import pandas as pd"
   ]
  },
  {
   "cell_type": "code",
   "execution_count": 2,
   "metadata": {},
   "outputs": [],
   "source": [
    "pd.set_option('display.float_format', lambda x: '%.4f' %x)"
   ]
  },
  {
   "cell_type": "code",
   "execution_count": 3,
   "metadata": {},
   "outputs": [],
   "source": [
    "import seaborn as sns\n",
    "sns.set_context('paper', font_scale=1.3)\n",
    "sns.set_style('white')"
   ]
  },
  {
   "cell_type": "code",
   "execution_count": 4,
   "metadata": {},
   "outputs": [],
   "source": [
    "import warnings\n",
    "warnings.filterwarnings('ignore')"
   ]
  },
  {
   "cell_type": "code",
   "execution_count": 5,
   "metadata": {},
   "outputs": [],
   "source": [
    "from time import time"
   ]
  },
  {
   "cell_type": "code",
   "execution_count": 6,
   "metadata": {},
   "outputs": [],
   "source": [
    "import matplotlib.ticker as tk"
   ]
  },
  {
   "cell_type": "code",
   "execution_count": 7,
   "metadata": {},
   "outputs": [],
   "source": [
    "from scipy import stats\n",
    "from statsmodels.tsa.stattools import adfuller\n",
    "from sklearn import preprocessing\n",
    "from statsmodels.tsa.stattools import pacf\n",
    "%matplotlib inline"
   ]
  },
  {
   "cell_type": "code",
   "execution_count": 8,
   "metadata": {},
   "outputs": [
    {
     "name": "stderr",
     "output_type": "stream",
     "text": [
      "Using TensorFlow backend.\n"
     ]
    }
   ],
   "source": [
    "import math \n",
    "import keras\n",
    "from keras.models import Sequential\n",
    "from keras.layers import Dense\n",
    "from keras.layers import LSTM\n",
    "from keras.layers import Dropout\n",
    "from keras.layers import *\n",
    "from sklearn.preprocessing import MinMaxScaler\n",
    "from sklearn.metrics import mean_squared_error\n",
    "from sklearn.metrics import mean_absolute_error\n",
    "from keras.callbacks import EarlyStopping"
   ]
  },
  {
   "cell_type": "code",
   "execution_count": 9,
   "metadata": {},
   "outputs": [],
   "source": [
    "df = pd.read_pickle('./Dataset/May01_09_cleaned.pkl')"
   ]
  },
  {
   "cell_type": "code",
   "execution_count": 10,
   "metadata": {},
   "outputs": [
    {
     "name": "stdout",
     "output_type": "stream",
     "text": [
      "Number of riws and columns: (53407746, 9)\n"
     ]
    },
    {
     "data": {
      "text/html": [
       "<div>\n",
       "<style scoped>\n",
       "    .dataframe tbody tr th:only-of-type {\n",
       "        vertical-align: middle;\n",
       "    }\n",
       "\n",
       "    .dataframe tbody tr th {\n",
       "        vertical-align: top;\n",
       "    }\n",
       "\n",
       "    .dataframe thead th {\n",
       "        text-align: right;\n",
       "    }\n",
       "</style>\n",
       "<table border=\"1\" class=\"dataframe\">\n",
       "  <thead>\n",
       "    <tr style=\"text-align: right;\">\n",
       "      <th></th>\n",
       "      <th>Source</th>\n",
       "      <th>Destination</th>\n",
       "      <th>Length</th>\n",
       "      <th>DateTime</th>\n",
       "      <th>Second</th>\n",
       "      <th>Minute</th>\n",
       "      <th>Hour</th>\n",
       "      <th>Day</th>\n",
       "      <th>weekday</th>\n",
       "    </tr>\n",
       "  </thead>\n",
       "  <tbody>\n",
       "    <tr>\n",
       "      <th>0</th>\n",
       "      <td>192.168.5.20</td>\n",
       "      <td>12.76.65.58</td>\n",
       "      <td>60</td>\n",
       "      <td>2007-05-01 19:55:56.762087</td>\n",
       "      <td>56</td>\n",
       "      <td>55</td>\n",
       "      <td>19</td>\n",
       "      <td>1</td>\n",
       "      <td>1</td>\n",
       "    </tr>\n",
       "    <tr>\n",
       "      <th>1</th>\n",
       "      <td>12.76.65.58</td>\n",
       "      <td>192.168.5.20</td>\n",
       "      <td>60</td>\n",
       "      <td>2007-05-01 19:55:56.890691</td>\n",
       "      <td>56</td>\n",
       "      <td>55</td>\n",
       "      <td>19</td>\n",
       "      <td>1</td>\n",
       "      <td>1</td>\n",
       "    </tr>\n",
       "    <tr>\n",
       "      <th>2</th>\n",
       "      <td>192.168.5.20</td>\n",
       "      <td>12.76.65.58</td>\n",
       "      <td>52</td>\n",
       "      <td>2007-05-01 19:55:56.890840</td>\n",
       "      <td>56</td>\n",
       "      <td>55</td>\n",
       "      <td>19</td>\n",
       "      <td>1</td>\n",
       "      <td>1</td>\n",
       "    </tr>\n",
       "    <tr>\n",
       "      <th>3</th>\n",
       "      <td>192.168.5.20</td>\n",
       "      <td>12.76.65.58</td>\n",
       "      <td>178</td>\n",
       "      <td>2007-05-01 19:55:56.891191</td>\n",
       "      <td>56</td>\n",
       "      <td>55</td>\n",
       "      <td>19</td>\n",
       "      <td>1</td>\n",
       "      <td>1</td>\n",
       "    </tr>\n",
       "    <tr>\n",
       "      <th>4</th>\n",
       "      <td>12.76.65.58</td>\n",
       "      <td>192.168.5.20</td>\n",
       "      <td>52</td>\n",
       "      <td>2007-05-01 19:55:57.019846</td>\n",
       "      <td>57</td>\n",
       "      <td>55</td>\n",
       "      <td>19</td>\n",
       "      <td>1</td>\n",
       "      <td>1</td>\n",
       "    </tr>\n",
       "  </tbody>\n",
       "</table>\n",
       "</div>"
      ],
      "text/plain": [
       "         Source   Destination  Length                   DateTime  Second  \\\n",
       "0  192.168.5.20   12.76.65.58      60 2007-05-01 19:55:56.762087      56   \n",
       "1   12.76.65.58  192.168.5.20      60 2007-05-01 19:55:56.890691      56   \n",
       "2  192.168.5.20   12.76.65.58      52 2007-05-01 19:55:56.890840      56   \n",
       "3  192.168.5.20   12.76.65.58     178 2007-05-01 19:55:56.891191      56   \n",
       "4   12.76.65.58  192.168.5.20      52 2007-05-01 19:55:57.019846      57   \n",
       "\n",
       "   Minute  Hour  Day  weekday  \n",
       "0      55    19    1        1  \n",
       "1      55    19    1        1  \n",
       "2      55    19    1        1  \n",
       "3      55    19    1        1  \n",
       "4      55    19    1        1  "
      ]
     },
     "execution_count": 10,
     "metadata": {},
     "output_type": "execute_result"
    }
   ],
   "source": [
    "print('Number of riws and columns:', df.shape)\n",
    "df.head(5)"
   ]
  },
  {
   "cell_type": "code",
   "execution_count": 11,
   "metadata": {},
   "outputs": [],
   "source": [
    "df = df.dropna(subset=['Length'])"
   ]
  },
  {
   "cell_type": "code",
   "execution_count": 12,
   "metadata": {},
   "outputs": [],
   "source": [
    "df['Length'] = pd.to_numeric(df['Length'], errors='coerce')"
   ]
  },
  {
   "cell_type": "code",
   "execution_count": 13,
   "metadata": {},
   "outputs": [
    {
     "name": "stdout",
     "output_type": "stream",
     "text": [
      "Number of riws and column after removing missing values: (53407746, 9)\n",
      "The time series starts from:  2007-05-01 19:55:56.762087\n",
      "The time series ends on:  2007-05-09 08:58:19.006994\n"
     ]
    }
   ],
   "source": [
    "print('Number of riws and column after removing missing values:',df.shape)\n",
    "print('The time series starts from: ',df.DateTime.min())\n",
    "print('The time series ends on: ',df.DateTime.max())"
   ]
  },
  {
   "cell_type": "markdown",
   "metadata": {},
   "source": [
    "#### There are several statistical tests that we can use toquantify whether our data look as though it was drawn from a Gaussian distibution. And we will\n",
    "####  use D'Agostino's K2 Test. In the SciPy implementation of the test, we will interpret the p value as follows. p <= alpha: reject H0, not normal. p > alpha: fail to reject H0, normal"
   ]
  },
  {
   "cell_type": "code",
   "execution_count": 15,
   "metadata": {},
   "outputs": [
    {
     "name": "stdout",
     "output_type": "stream",
     "text": [
      "Statistics=186462473.879, p=0.000\n",
      "Data does not look gaussian (reject H0)\n"
     ]
    }
   ],
   "source": [
    "stat, p = stats.normaltest(df.Length)\n",
    "print('Statistics=%.3f, p=%.3f' % (stat, p))\n",
    "alpha  = 0.05\n",
    "if p > alpha:\n",
    "    print('Data looks Gaussian (fail to reject Null hypothesis H0)')\n",
    "else:\n",
    "    print('Data does not look gaussian (reject H0)')"
   ]
  },
  {
   "cell_type": "code",
   "execution_count": null,
   "metadata": {},
   "outputs": [],
   "source": []
  }
 ],
 "metadata": {
  "kernelspec": {
   "display_name": "Python 3",
   "language": "python",
   "name": "python3"
  },
  "language_info": {
   "codemirror_mode": {
    "name": "ipython",
    "version": 3
   },
   "file_extension": ".py",
   "mimetype": "text/x-python",
   "name": "python",
   "nbconvert_exporter": "python",
   "pygments_lexer": "ipython3",
   "version": "3.5.4"
  }
 },
 "nbformat": 4,
 "nbformat_minor": 2
}
